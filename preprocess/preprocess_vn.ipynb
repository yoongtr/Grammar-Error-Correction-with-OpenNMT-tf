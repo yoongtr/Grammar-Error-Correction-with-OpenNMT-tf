{
 "cells": [
  {
   "cell_type": "code",
   "execution_count": 1,
   "metadata": {},
   "outputs": [],
   "source": [
    "import pandas\n",
    "import spacy\n",
    "import unicodedata"
   ]
  },
  {
   "cell_type": "code",
   "execution_count": 2,
   "metadata": {},
   "outputs": [],
   "source": [
    "nlp = spacy.load('en_core_web_sm')\n",
    "#from spacy.lang.vi import Vietnamese\n",
    "#nlp = Vietnamese()"
   ]
  },
  {
   "cell_type": "code",
   "execution_count": 3,
   "metadata": {},
   "outputs": [
    {
     "data": {
      "text/html": [
       "<div>\n",
       "<style scoped>\n",
       "    .dataframe tbody tr th:only-of-type {\n",
       "        vertical-align: middle;\n",
       "    }\n",
       "\n",
       "    .dataframe tbody tr th {\n",
       "        vertical-align: top;\n",
       "    }\n",
       "\n",
       "    .dataframe thead th {\n",
       "        text-align: right;\n",
       "    }\n",
       "</style>\n",
       "<table border=\"1\" class=\"dataframe\">\n",
       "  <thead>\n",
       "    <tr style=\"text-align: right;\">\n",
       "      <th></th>\n",
       "      <th>Code</th>\n",
       "      <th>sep_msg</th>\n",
       "      <th>clean_msg</th>\n",
       "      <th>Translation</th>\n",
       "      <th>Note</th>\n",
       "    </tr>\n",
       "  </thead>\n",
       "  <tbody>\n",
       "    <tr>\n",
       "      <th>0</th>\n",
       "      <td>2</td>\n",
       "      <td>【包邮led显微镜光源显微镜外加光源ty-60显微镜辅助光源灯架环形】https://m.t...</td>\n",
       "      <td>NaN</td>\n",
       "      <td>NaN</td>\n",
       "      <td>NOT VI/EN</td>\n",
       "    </tr>\n",
       "    <tr>\n",
       "      <th>1</th>\n",
       "      <td>3</td>\n",
       "      <td>ji tian dao yue nan</td>\n",
       "      <td>NaN</td>\n",
       "      <td>NaN</td>\n",
       "      <td>NOT VI/EN</td>\n",
       "    </tr>\n",
       "    <tr>\n",
       "      <th>2</th>\n",
       "      <td>4</td>\n",
       "      <td>old man head lapel pins multiple eyes edgar al...</td>\n",
       "      <td>NaN</td>\n",
       "      <td>NaN</td>\n",
       "      <td>NOT VI/EN</td>\n",
       "    </tr>\n",
       "    <tr>\n",
       "      <th>3</th>\n",
       "      <td>5</td>\n",
       "      <td>oh, tai qui le</td>\n",
       "      <td>NaN</td>\n",
       "      <td>NaN</td>\n",
       "      <td>NOT VI/EN</td>\n",
       "    </tr>\n",
       "    <tr>\n",
       "      <th>4</th>\n",
       "      <td>6</td>\n",
       "      <td>kami mengudara di masa lalu</td>\n",
       "      <td>NaN</td>\n",
       "      <td>NaN</td>\n",
       "      <td>NOT VI/EN</td>\n",
       "    </tr>\n",
       "  </tbody>\n",
       "</table>\n",
       "</div>"
      ],
      "text/plain": [
       "   Code                                            sep_msg clean_msg  \\\n",
       "0     2  【包邮led显微镜光源显微镜外加光源ty-60显微镜辅助光源灯架环形】https://m.t...       NaN   \n",
       "1     3                                ji tian dao yue nan       NaN   \n",
       "2     4  old man head lapel pins multiple eyes edgar al...       NaN   \n",
       "3     5                                     oh, tai qui le       NaN   \n",
       "4     6                        kami mengudara di masa lalu       NaN   \n",
       "\n",
       "  Translation       Note  \n",
       "0         NaN  NOT VI/EN  \n",
       "1         NaN  NOT VI/EN  \n",
       "2         NaN  NOT VI/EN  \n",
       "3         NaN  NOT VI/EN  \n",
       "4         NaN  NOT VI/EN  "
      ]
     },
     "execution_count": 3,
     "metadata": {},
     "output_type": "execute_result"
    }
   ],
   "source": [
    "df_raw = pandas.read_csv(\"batch2_vi_en_chat.csv\", encoding = \"utf-8\")\n",
    "df_raw.rename(columns = {'Original':'sep_msg', \n",
    "                    'Language Correction': 'clean_msg'}, inplace=True)\n",
    "df_raw.head()"
   ]
  },
  {
   "cell_type": "code",
   "execution_count": 4,
   "metadata": {},
   "outputs": [
    {
     "name": "stderr",
     "output_type": "stream",
     "text": [
      "/Users/yoong.thuydung/python-virtual-environments/mlt00/lib/python3.7/site-packages/ipykernel_launcher.py:2: SettingWithCopyWarning: \n",
      "A value is trying to be set on a copy of a slice from a DataFrame\n",
      "\n",
      "See the caveats in the documentation: https://pandas.pydata.org/pandas-docs/stable/user_guide/indexing.html#returning-a-view-versus-a-copy\n",
      "  \n"
     ]
    },
    {
     "data": {
      "text/html": [
       "<div>\n",
       "<style scoped>\n",
       "    .dataframe tbody tr th:only-of-type {\n",
       "        vertical-align: middle;\n",
       "    }\n",
       "\n",
       "    .dataframe tbody tr th {\n",
       "        vertical-align: top;\n",
       "    }\n",
       "\n",
       "    .dataframe thead th {\n",
       "        text-align: right;\n",
       "    }\n",
       "</style>\n",
       "<table border=\"1\" class=\"dataframe\">\n",
       "  <thead>\n",
       "    <tr style=\"text-align: right;\">\n",
       "      <th></th>\n",
       "      <th>sep_msg</th>\n",
       "      <th>clean_msg</th>\n",
       "    </tr>\n",
       "  </thead>\n",
       "  <tbody>\n",
       "    <tr>\n",
       "      <th>220</th>\n",
       "      <td>đặt hàng cmm làm gì mà cả tháng ko đc</td>\n",
       "      <td>Đặt hàng *** nhưng sao cả tháng vẫn chưa có?</td>\n",
       "    </tr>\n",
       "    <tr>\n",
       "      <th>221</th>\n",
       "      <td>làm ăn gì nói như con kạc thuê mấy thèn khốn p...</td>\n",
       "      <td>làm ăn gì nói như **** thuê mấy thằng ***** ph...</td>\n",
       "    </tr>\n",
       "    <tr>\n",
       "      <th>222</th>\n",
       "      <td>mả tổ nhà mày đăg hình một đằg giao hàng một nẻo</td>\n",
       "      <td>Bạn đăng hình một đằng, giao hàng một nẻo.</td>\n",
       "    </tr>\n",
       "    <tr>\n",
       "      <th>223</th>\n",
       "      <td>dm kg co hang thi huy don</td>\n",
       "      <td>*** không có hàng thì hủy đơn</td>\n",
       "    </tr>\n",
       "    <tr>\n",
       "      <th>224</th>\n",
       "      <td>vkl ma ko biet san pham ah</td>\n",
       "      <td>Mà bạn không biết tên sản phẩm là gì à?</td>\n",
       "    </tr>\n",
       "  </tbody>\n",
       "</table>\n",
       "</div>"
      ],
      "text/plain": [
       "                                               sep_msg  \\\n",
       "220              đặt hàng cmm làm gì mà cả tháng ko đc   \n",
       "221  làm ăn gì nói như con kạc thuê mấy thèn khốn p...   \n",
       "222   mả tổ nhà mày đăg hình một đằg giao hàng một nẻo   \n",
       "223                          dm kg co hang thi huy don   \n",
       "224                         vkl ma ko biet san pham ah   \n",
       "\n",
       "                                             clean_msg  \n",
       "220       Đặt hàng *** nhưng sao cả tháng vẫn chưa có?  \n",
       "221  làm ăn gì nói như **** thuê mấy thằng ***** ph...  \n",
       "222         Bạn đăng hình một đằng, giao hàng một nẻo.  \n",
       "223                      *** không có hàng thì hủy đơn  \n",
       "224            Mà bạn không biết tên sản phẩm là gì à?  "
      ]
     },
     "execution_count": 4,
     "metadata": {},
     "output_type": "execute_result"
    }
   ],
   "source": [
    "df = df_raw[['sep_msg', 'clean_msg']]\n",
    "df.dropna(inplace=True)\n",
    "df = df.applymap(lambda x: x.replace('\"', ''))\n",
    "df.head()"
   ]
  },
  {
   "cell_type": "code",
   "execution_count": 5,
   "metadata": {},
   "outputs": [
    {
     "data": {
      "text/plain": [
       "['sep_msg', 'clean_msg']"
      ]
     },
     "execution_count": 5,
     "metadata": {},
     "output_type": "execute_result"
    }
   ],
   "source": [
    "list(df.columns.values)"
   ]
  },
  {
   "cell_type": "code",
   "execution_count": 6,
   "metadata": {},
   "outputs": [],
   "source": [
    "#df.sep_msg = df.sep_msg.apply(lambda val: unicodedata.normalize('NFKD', str(val)).encode('ascii', 'ignore').decode())\n",
    "#df.clean_msg = df.clean_msg.apply(lambda val: unicodedata.normalize('NFKD', str(val)).encode('ascii', 'ignore').decode())"
   ]
  },
  {
   "cell_type": "code",
   "execution_count": 7,
   "metadata": {},
   "outputs": [
    {
     "name": "stdout",
     "output_type": "stream",
     "text": [
      "<class 'pandas.core.frame.DataFrame'>\n",
      "Int64Index: 120621 entries, 220 to 121638\n",
      "Data columns (total 2 columns):\n",
      " #   Column     Non-Null Count   Dtype \n",
      "---  ------     --------------   ----- \n",
      " 0   sep_msg    120621 non-null  object\n",
      " 1   clean_msg  120621 non-null  object\n",
      "dtypes: object(2)\n",
      "memory usage: 2.8+ MB\n"
     ]
    }
   ],
   "source": [
    "df.info()"
   ]
  },
  {
   "cell_type": "code",
   "execution_count": 8,
   "metadata": {},
   "outputs": [],
   "source": [
    "# -*- coding: utf-8 -*-\n",
    "import re\n",
    "alphabets= \"([A-Za-z])\"\n",
    "prefixes = \"(Mr|St|Mrs|Ms|Dr)[.]\"\n",
    "suffixes = \"(Inc|Ltd|Jr|Sr|Co)\"\n",
    "starters = \"(Mr|Mrs|Ms|Dr|He\\s|She\\s|It\\s|They\\s|Their\\s|Our\\s|We\\s|But\\s|However\\s|That\\s|This\\s|Wherever)\"\n",
    "acronyms = \"([A-Z][.][A-Z][.](?:[A-Z][.])?)\"\n",
    "websites = \"[.](com|net|org|io|gov)\"\n",
    "\n",
    "def split_into_sentences(text):\n",
    "    text = \" \" + text + \"  \"\n",
    "    text = text.replace(r'\\n',\". \")\n",
    "    text = re.sub(prefixes,\"\\\\1<prd>\",text)\n",
    "    text = re.sub(websites,\"<prd>\\\\1\",text)\n",
    "    if \"Ph.D\" in text: text = text.replace(\"Ph.D.\",\"Ph<prd>D<prd>\")\n",
    "    text = re.sub(\"\\s\" + alphabets + \"[.] \",\" \\\\1<prd> \",text)\n",
    "    text = re.sub(acronyms+\" \"+starters,\"\\\\1<eos> \\\\2\",text)\n",
    "    text = re.sub(alphabets + \"[.]\" + alphabets + \"[.]\" + alphabets + \"[.]\",\"\\\\1<prd>\\\\2<prd>\\\\3<prd>\",text)\n",
    "    text = re.sub(alphabets + \"[.]\" + alphabets + \"[.]\",\"\\\\1<prd>\\\\2<prd>\",text)\n",
    "    text = re.sub(\" \"+suffixes+\"[.] \"+starters,\" \\\\1<eos> \\\\2\",text)\n",
    "    text = re.sub(\" \"+suffixes+\"[.]\",\" \\\\1<prd>\",text)\n",
    "    text = re.sub(\" \" + alphabets + \"[.]\",\" \\\\1<prd>\",text)\n",
    "    if \"”\" in text: text = text.replace(\".”\",\"”.\")\n",
    "    if \"\\\"\" in text: text = text.replace(\".\\\"\",\"\\\".\")\n",
    "    if \"!\" in text: text = text.replace(\"!\\\"\",\"\\\"!\")\n",
    "    if \"?\" in text: text = text.replace(\"?\\\"\",\"\\\"?\")\n",
    "    text = text.replace(\".\",\".<eos>\")\n",
    "    text = text.replace(\"?\",\"?<eos>\")\n",
    "    text = text.replace(\"!\",\"!<eos>\")\n",
    "    text = text.replace(\"<prd>\",\".\")\n",
    "    sentences = text.split(\"<eos>\")\n",
    "    sentences = sentences[:-1]\n",
    "    sentences = [s.strip() for s in sentences]\n",
    "    return sentences"
   ]
  },
  {
   "cell_type": "code",
   "execution_count": 9,
   "metadata": {},
   "outputs": [
    {
     "ename": "FileNotFoundError",
     "evalue": "[Errno 2] No such file or directory: 'correction1/processed_vn.txt'",
     "output_type": "error",
     "traceback": [
      "\u001b[0;31m---------------------------------------------------------------------------\u001b[0m",
      "\u001b[0;31mFileNotFoundError\u001b[0m                         Traceback (most recent call last)",
      "\u001b[0;32m<ipython-input-9-fdd42737532a>\u001b[0m in \u001b[0;36m<module>\u001b[0;34m\u001b[0m\n\u001b[1;32m      1\u001b[0m \u001b[0mcounter\u001b[0m \u001b[0;34m=\u001b[0m \u001b[0;36m0\u001b[0m\u001b[0;34m\u001b[0m\u001b[0;34m\u001b[0m\u001b[0m\n\u001b[0;32m----> 2\u001b[0;31m \u001b[0;32mwith\u001b[0m \u001b[0mopen\u001b[0m\u001b[0;34m(\u001b[0m\u001b[0;34m\"correction1/processed_vn.txt\"\u001b[0m\u001b[0;34m,\u001b[0m \u001b[0;34m'w'\u001b[0m\u001b[0;34m)\u001b[0m \u001b[0;32mas\u001b[0m \u001b[0mf\u001b[0m\u001b[0;34m:\u001b[0m\u001b[0;34m\u001b[0m\u001b[0;34m\u001b[0m\u001b[0m\n\u001b[0m\u001b[1;32m      3\u001b[0m     \u001b[0;32mfor\u001b[0m \u001b[0my\u001b[0m\u001b[0;34m,\u001b[0m \u001b[0mrow\u001b[0m \u001b[0;32min\u001b[0m \u001b[0mdf\u001b[0m\u001b[0;34m.\u001b[0m\u001b[0miterrows\u001b[0m\u001b[0;34m(\u001b[0m\u001b[0;34m)\u001b[0m\u001b[0;34m:\u001b[0m\u001b[0;34m\u001b[0m\u001b[0;34m\u001b[0m\u001b[0m\n\u001b[1;32m      4\u001b[0m         \u001b[0morig\u001b[0m \u001b[0;34m=\u001b[0m \u001b[0mstr\u001b[0m\u001b[0;34m(\u001b[0m\u001b[0mrow\u001b[0m\u001b[0;34m.\u001b[0m\u001b[0msep_msg\u001b[0m\u001b[0;34m)\u001b[0m\u001b[0;34m.\u001b[0m\u001b[0mreplace\u001b[0m\u001b[0;34m(\u001b[0m\u001b[0;34mr'\\n'\u001b[0m\u001b[0;34m,\u001b[0m\u001b[0;34m\" \"\u001b[0m\u001b[0;34m)\u001b[0m\u001b[0;34m\u001b[0m\u001b[0;34m\u001b[0m\u001b[0m\n\u001b[1;32m      5\u001b[0m         \u001b[0mclean\u001b[0m \u001b[0;34m=\u001b[0m \u001b[0mstr\u001b[0m\u001b[0;34m(\u001b[0m\u001b[0mrow\u001b[0m\u001b[0;34m.\u001b[0m\u001b[0mclean_msg\u001b[0m\u001b[0;34m)\u001b[0m\u001b[0;34m.\u001b[0m\u001b[0mreplace\u001b[0m\u001b[0;34m(\u001b[0m\u001b[0;34mr'\\n'\u001b[0m\u001b[0;34m,\u001b[0m\u001b[0;34m\" \"\u001b[0m\u001b[0;34m)\u001b[0m\u001b[0;34m\u001b[0m\u001b[0;34m\u001b[0m\u001b[0m\n",
      "\u001b[0;31mFileNotFoundError\u001b[0m: [Errno 2] No such file or directory: 'correction1/processed_vn.txt'"
     ]
    }
   ],
   "source": [
    "counter = 0\n",
    "with open(\"correction1/processed_vn.txt\", 'w') as f:\n",
    "    for y, row in df.iterrows():\n",
    "        orig = str(row.sep_msg).replace(r'\\n',\" \")\n",
    "        clean = str(row.clean_msg).replace(r'\\n',\" \")\n",
    "        #if clean == \"nan\":\n",
    "            #orig = \"\"\n",
    "        orig = orig.split(\"<eos>\")\n",
    "        clean = clean.split(\"<eos>\")\n",
    "        if not len(orig) == len(clean):\n",
    "            counter +=1\n",
    "            #print(orig)\n",
    "            #print(clean)\n",
    "            orig = split_into_sentences(row.sep_msg)\n",
    "            clean = split_into_sentences(row.clean_msg)\n",
    "        if not len(orig) == len(clean):\n",
    "            continue\n",
    "        for i in range(len(orig)):\n",
    "            src = \" \".join([str(x).strip() for x in nlp(orig[i].strip())])\n",
    "            #print(src)\n",
    "            trg = \" \".join([str(x).strip() for x in nlp(clean[i].strip())])\n",
    "            #print(clean)\n",
    "            if len(src) < 3:\n",
    "                continue\n",
    "            if len(trg) < 3:\n",
    "                continue\n",
    "            f.write(src)\n",
    "            f.write('\\t')\n",
    "            f.write(trg)\n",
    "            f.write('\\n')\n",
    "            \n",
    "print(counter)"
   ]
  },
  {
   "cell_type": "code",
   "execution_count": null,
   "metadata": {},
   "outputs": [],
   "source": [
    "#src_file = open(\"vn.src\", \"w\")\n",
    "#trg_file = open(\"vn.trg\", \"w\")\n",
    "with open('processed_vn.txt', 'r') as f:\n",
    "    lines = [line for line in f]\n",
    "    n = len(lines)\n",
    "    train1 = lines[0:int(0.8*n)]\n",
    "    train = lines[0:int(0.8*len(train1))]\n",
    "    valid = lines[int(-0.2*len(train1)):]\n",
    "    test = lines[int(-0.2*n):]\n",
    "    \n",
    "    for line in train:\n",
    "        content = line.split('\\t')\n",
    "        src = content[0]\n",
    "        trg = content[1]\n",
    "        with open('correction1/train_vn.src', 'a') as src_file:\n",
    "            src_file.write(src)\n",
    "            src_file.write('\\n')\n",
    "        with open('correction1/train_vn.trg', 'a') as trg_file:\n",
    "            trg_file.write(trg)\n",
    "            #trg_file.write('\\n')\n",
    "            \n",
    "    for line in test:\n",
    "        content = line.split('\\t')\n",
    "        src = content[0]\n",
    "        trg = content[1]\n",
    "        with open('correction1/test_vn.src', 'a') as src_file:\n",
    "            src_file.write(src)\n",
    "            src_file.write('\\n')\n",
    "        with open('correction1/test_vn.trg', 'a') as trg_file:\n",
    "            trg_file.write(trg)\n",
    "            #trg_file.write('\\n')\n",
    "            \n",
    "    for line in valid:\n",
    "        content = line.split('\\t')\n",
    "        src = content[0]\n",
    "        trg = content[1]\n",
    "        with open('correction1/valid_vn.src', 'a') as src_file:\n",
    "            src_file.write(src)\n",
    "            src_file.write('\\n')\n",
    "        with open('correction1/valid_vn.trg', 'a') as trg_file:\n",
    "            trg_file.write(trg)\n",
    "            #trg_file.write('\\n')\n",
    "    \n",
    "#     reader = csv.reader(f, dialect='excel', delimiter='\\t')\n",
    "#     for row in reader"
   ]
  },
  {
   "cell_type": "code",
   "execution_count": null,
   "metadata": {},
   "outputs": [],
   "source": []
  }
 ],
 "metadata": {
  "kernelspec": {
   "display_name": "Python 2",
   "language": "python 2",
   "name": "python2"
  },
  "language_info": {
   "codemirror_mode": {
    "name": "ipython",
    "version": 2
   },
   "file_extension": ".py",
   "mimetype": "text/x-python",
   "name": "python",
   "nbconvert_exporter": "python",
   "pygments_lexer": "ipython2",
   "version": "2.7.16"
  }
 },
 "nbformat": 4,
 "nbformat_minor": 2
}
