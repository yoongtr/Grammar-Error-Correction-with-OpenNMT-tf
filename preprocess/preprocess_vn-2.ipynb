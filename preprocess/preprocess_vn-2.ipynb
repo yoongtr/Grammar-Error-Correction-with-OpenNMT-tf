{
 "cells": [
  {
   "cell_type": "code",
   "execution_count": 1,
   "metadata": {},
   "outputs": [
    {
     "data": {
      "text/plain": [
       "[]"
      ]
     },
     "execution_count": 1,
     "metadata": {},
     "output_type": "execute_result"
    }
   ],
   "source": [
    "import tensorflow as tf\n",
    "tf.config.experimental.list_physical_devices('GPU')"
   ]
  },
  {
   "cell_type": "code",
   "execution_count": 5,
   "metadata": {},
   "outputs": [
    {
     "name": "stdout",
     "output_type": "stream",
     "text": [
      "/bin/bash: nvcc: command not found\r\n"
     ]
    }
   ],
   "source": [
    "!nvcc --version"
   ]
  },
  {
   "cell_type": "code",
   "execution_count": 252,
   "metadata": {},
   "outputs": [
    {
     "name": "stdout",
     "output_type": "stream",
     "text": [
      "3.7.3\n"
     ]
    }
   ],
   "source": [
    "from platform import python_version\n",
    "\n",
    "print(python_version())\n",
    "\n",
    "# Should be 3.7.3 for underthesea compatibility"
   ]
  },
  {
   "cell_type": "code",
   "execution_count": 253,
   "metadata": {},
   "outputs": [],
   "source": [
    "import pandas\n",
    "import unicodedata # VN NLP took\n",
    "from underthesea import word_tokenize as nlp\n",
    "import re"
   ]
  },
  {
   "cell_type": "code",
   "execution_count": 254,
   "metadata": {},
   "outputs": [],
   "source": [
    "# mystring = 'Bao lâu thì có hàng ạ'\n",
    "# test = \" \".join([str(x).strip() for x in nlp(mystring.strip())])\n",
    "# test\n",
    "# nlp(mystring.strip())"
   ]
  },
  {
   "cell_type": "code",
   "execution_count": 255,
   "metadata": {},
   "outputs": [
    {
     "data": {
      "text/html": [
       "<div>\n",
       "<style scoped>\n",
       "    .dataframe tbody tr th:only-of-type {\n",
       "        vertical-align: middle;\n",
       "    }\n",
       "\n",
       "    .dataframe tbody tr th {\n",
       "        vertical-align: top;\n",
       "    }\n",
       "\n",
       "    .dataframe thead th {\n",
       "        text-align: right;\n",
       "    }\n",
       "</style>\n",
       "<table border=\"1\" class=\"dataframe\">\n",
       "  <thead>\n",
       "    <tr style=\"text-align: right;\">\n",
       "      <th></th>\n",
       "      <th>Code</th>\n",
       "      <th>sep_msg</th>\n",
       "      <th>clean_msg</th>\n",
       "      <th>Translation</th>\n",
       "      <th>Note</th>\n",
       "    </tr>\n",
       "  </thead>\n",
       "  <tbody>\n",
       "    <tr>\n",
       "      <th>0</th>\n",
       "      <td>B1-VN-1</td>\n",
       "      <td>\"Chất liệu: Cotton, Polyester\"</td>\n",
       "      <td>\"Chất liệu: Cotton, Polyester\"</td>\n",
       "      <td>It is made of Cotton and Polyester</td>\n",
       "      <td>NaN</td>\n",
       "    </tr>\n",
       "    <tr>\n",
       "      <th>1</th>\n",
       "      <td>B1-VN-2</td>\n",
       "      <td>Dạ sản phẩm này chỉ đi kèm 1 chậu không có giá...</td>\n",
       "      <td>Dạ, sản phẩm này chỉ đi kèm 1 chậu không có gi...</td>\n",
       "      <td>This product appears as a free pot, it does no...</td>\n",
       "      <td>NaN</td>\n",
       "    </tr>\n",
       "    <tr>\n",
       "      <th>2</th>\n",
       "      <td>B1-VN-3</td>\n",
       "      <td>\"Em biết là hàng k có sẵn rồi cơ nhưng mà shop...</td>\n",
       "      <td>\"Em biết là hàng không có sẵn rồi nhưng mà cửa...</td>\n",
       "      <td>I know that the product is not available right...</td>\n",
       "      <td>NaN</td>\n",
       "    </tr>\n",
       "    <tr>\n",
       "      <th>3</th>\n",
       "      <td>B1-VN-4</td>\n",
       "      <td>Em 65kg</td>\n",
       "      <td>Em nặng 65kg</td>\n",
       "      <td>I weigh 65kg</td>\n",
       "      <td>NaN</td>\n",
       "    </tr>\n",
       "    <tr>\n",
       "      <th>4</th>\n",
       "      <td>B1-VN-5</td>\n",
       "      <td>Bao lâu thì có hàng ạ.&lt;eos&gt;Mình ở HN</td>\n",
       "      <td>Bao lâu thì có hàng ạ?&lt;eos&gt;Mình ở Hà Nội.</td>\n",
       "      <td>How long does it take to have goods?&lt;eos&gt;I liv...</td>\n",
       "      <td>NaN</td>\n",
       "    </tr>\n",
       "  </tbody>\n",
       "</table>\n",
       "</div>"
      ],
      "text/plain": [
       "      Code                                            sep_msg  \\\n",
       "0  B1-VN-1                     \"Chất liệu: Cotton, Polyester\"   \n",
       "1  B1-VN-2  Dạ sản phẩm này chỉ đi kèm 1 chậu không có giá...   \n",
       "2  B1-VN-3  \"Em biết là hàng k có sẵn rồi cơ nhưng mà shop...   \n",
       "3  B1-VN-4                                            Em 65kg   \n",
       "4  B1-VN-5               Bao lâu thì có hàng ạ.<eos>Mình ở HN   \n",
       "\n",
       "                                           clean_msg  \\\n",
       "0                     \"Chất liệu: Cotton, Polyester\"   \n",
       "1  Dạ, sản phẩm này chỉ đi kèm 1 chậu không có gi...   \n",
       "2  \"Em biết là hàng không có sẵn rồi nhưng mà cửa...   \n",
       "3                                       Em nặng 65kg   \n",
       "4          Bao lâu thì có hàng ạ?<eos>Mình ở Hà Nội.   \n",
       "\n",
       "                                         Translation Note  \n",
       "0                 It is made of Cotton and Polyester  NaN  \n",
       "1  This product appears as a free pot, it does no...  NaN  \n",
       "2  I know that the product is not available right...  NaN  \n",
       "3                                       I weigh 65kg  NaN  \n",
       "4  How long does it take to have goods?<eos>I liv...  NaN  "
      ]
     },
     "execution_count": 255,
     "metadata": {},
     "output_type": "execute_result"
    }
   ],
   "source": [
    "df_raw = pandas.read_csv(\"batch1_vi_en_chat.csv\", encoding = \"utf-8\")\n",
    "df_raw.rename(columns = {'Original':'sep_msg', \n",
    "                    'Language Correction': 'clean_msg'}, inplace=True)\n",
    "df_raw.head()"
   ]
  },
  {
   "cell_type": "code",
   "execution_count": 256,
   "metadata": {},
   "outputs": [
    {
     "name": "stderr",
     "output_type": "stream",
     "text": [
      "/ldap_home/yoong.thuydung/anaconda3/envs/mlt03/lib/python3.7/site-packages/ipykernel_launcher.py:2: SettingWithCopyWarning: \n",
      "A value is trying to be set on a copy of a slice from a DataFrame\n",
      "\n",
      "See the caveats in the documentation: https://pandas.pydata.org/pandas-docs/stable/user_guide/indexing.html#returning-a-view-versus-a-copy\n",
      "  \n"
     ]
    },
    {
     "data": {
      "text/html": [
       "<div>\n",
       "<style scoped>\n",
       "    .dataframe tbody tr th:only-of-type {\n",
       "        vertical-align: middle;\n",
       "    }\n",
       "\n",
       "    .dataframe tbody tr th {\n",
       "        vertical-align: top;\n",
       "    }\n",
       "\n",
       "    .dataframe thead th {\n",
       "        text-align: right;\n",
       "    }\n",
       "</style>\n",
       "<table border=\"1\" class=\"dataframe\">\n",
       "  <thead>\n",
       "    <tr style=\"text-align: right;\">\n",
       "      <th></th>\n",
       "      <th>sep_msg</th>\n",
       "      <th>clean_msg</th>\n",
       "    </tr>\n",
       "  </thead>\n",
       "  <tbody>\n",
       "    <tr>\n",
       "      <th>0</th>\n",
       "      <td>Chất liệu: Cotton, Polyester</td>\n",
       "      <td>Chất liệu: Cotton, Polyester</td>\n",
       "    </tr>\n",
       "    <tr>\n",
       "      <th>1</th>\n",
       "      <td>Dạ sản phẩm này chỉ đi kèm 1 chậu không có giá...</td>\n",
       "      <td>Dạ, sản phẩm này chỉ đi kèm 1 chậu không có gi...</td>\n",
       "    </tr>\n",
       "    <tr>\n",
       "      <th>2</th>\n",
       "      <td>Em biết là hàng k có sẵn rồi cơ nhưng mà shop ...</td>\n",
       "      <td>Em biết là hàng không có sẵn rồi nhưng mà cửa ...</td>\n",
       "    </tr>\n",
       "    <tr>\n",
       "      <th>3</th>\n",
       "      <td>Em 65kg</td>\n",
       "      <td>Em nặng 65kg</td>\n",
       "    </tr>\n",
       "    <tr>\n",
       "      <th>4</th>\n",
       "      <td>Bao lâu thì có hàng ạ.&lt;eos&gt;Mình ở HN</td>\n",
       "      <td>Bao lâu thì có hàng ạ?&lt;eos&gt;Mình ở Hà Nội.</td>\n",
       "    </tr>\n",
       "  </tbody>\n",
       "</table>\n",
       "</div>"
      ],
      "text/plain": [
       "                                             sep_msg  \\\n",
       "0                       Chất liệu: Cotton, Polyester   \n",
       "1  Dạ sản phẩm này chỉ đi kèm 1 chậu không có giá...   \n",
       "2  Em biết là hàng k có sẵn rồi cơ nhưng mà shop ...   \n",
       "3                                            Em 65kg   \n",
       "4               Bao lâu thì có hàng ạ.<eos>Mình ở HN   \n",
       "\n",
       "                                           clean_msg  \n",
       "0                       Chất liệu: Cotton, Polyester  \n",
       "1  Dạ, sản phẩm này chỉ đi kèm 1 chậu không có gi...  \n",
       "2  Em biết là hàng không có sẵn rồi nhưng mà cửa ...  \n",
       "3                                       Em nặng 65kg  \n",
       "4          Bao lâu thì có hàng ạ?<eos>Mình ở Hà Nội.  "
      ]
     },
     "execution_count": 256,
     "metadata": {},
     "output_type": "execute_result"
    }
   ],
   "source": [
    "df = df_raw[['sep_msg', 'clean_msg']]\n",
    "df.dropna(inplace=True)\n",
    "df = df.applymap(lambda x: x.replace('\"', ''))\n",
    "df.head()"
   ]
  },
  {
   "cell_type": "code",
   "execution_count": 257,
   "metadata": {},
   "outputs": [],
   "source": [
    "# Uncomment if want to remove the phonetics\n",
    "# Not recommended because ascii unable to decode certain VN characters\n",
    "\n",
    "#df.sep_msg = df.sep_msg.apply(lambda val: unicodedata.normalize('NFKD', str(val)).encode('ascii', 'ignore').decode())\n",
    "#df.clean_msg = df.clean_msg.apply(lambda val: unicodedata.normalize('NFKD', str(val)).encode('ascii', 'ignore').decode())\n",
    "#df.head()"
   ]
  },
  {
   "cell_type": "code",
   "execution_count": 258,
   "metadata": {},
   "outputs": [],
   "source": [
    "# Uncomment if want to test with only a small portion of the data\n",
    "\n",
    "#df = df.iloc[:1000]\n",
    "#df"
   ]
  },
  {
   "cell_type": "code",
   "execution_count": 259,
   "metadata": {},
   "outputs": [],
   "source": [
    "def remove_emoji(string): # new emoji updates https://gist.github.com/slowkow/7a7f61f495e3dbb7e3d767f97bd7304b\n",
    "    emoji_pattern = re.compile(\"[\"\n",
    "                               u\"\\U0001F600-\\U0001F64F\"  # emoticons\n",
    "                               u\"\\U0001F300-\\U0001F5FF\"  # symbols & pictographs\n",
    "                               u\"\\U0001F680-\\U0001F6FF\"  # transport & map symbols\n",
    "                               u\"\\U0001F1E0-\\U0001F1FF\"  # flags (iOS)\n",
    "                               u\"\\U00002500-\\U00002BEF\"  # chinese char\n",
    "                               u\"\\U00002702-\\U000027B0\"\n",
    "                               u\"\\U00002702-\\U000027B0\"\n",
    "                               u\"\\U000024C2-\\U0001F251\"\n",
    "                               u\"\\U0001f926-\\U0001f937\"\n",
    "                               u\"\\U00010000-\\U0010ffff\"\n",
    "                               u\"\\u2640-\\u2642\"\n",
    "                               u\"\\u2600-\\u2B55\"\n",
    "                               u\"\\u200d\"\n",
    "                               u\"\\u23cf\"\n",
    "                               u\"\\u23e9\"\n",
    "                               u\"\\u231a\"\n",
    "                               u\"\\ufe0f\"  # dingbats\n",
    "                               u\"\\u3030\"\n",
    "                               \"]+\", flags=re.UNICODE)\n",
    "    return emoji_pattern.sub(r'', string)\n",
    "\n",
    "\n",
    "def remove_email(line):\n",
    "    SUPPORT_EMAIL = r\"support@shopee\\.\\S{2}\"\n",
    "    line = re.sub(SUPPORT_EMAIL, \"SUPPORT_EMAIL\", line)\n",
    "    line = re.sub(\n",
    "        r\"(\\b[a-zA-Z0-9_.+-]+@[a-zA-Z0-9-]+\\.[a-zA-Z0-9-.]+\\b)\", \"EMAIL\", line\n",
    "    )\n",
    "    return line\n",
    "\n",
    "\n",
    "def remove_url(line):\n",
    "    line = re.sub(r\"https?://.\\S+\", \"URL\", line)\n",
    "    return line\n",
    "\n",
    "def replace_wordnum(line): #mixture of word and number, eg. H219DW\n",
    "    return re.sub(r'\\w*\\d\\w*', 'WORDNUM', line)\n",
    "\n",
    "def split_number(line):\n",
    "    return re.sub(r\"(\\d+)([^\\d]+)\", r\"\\1 \\2\", line)\n",
    "\n",
    "def replace_number(line: str) -> str:\n",
    "    return re.sub(r\"\\s[0-9]+\\s\", \" NUM \", line)\n",
    "\n",
    "def lowercase(line):\n",
    "    return line.lower()\n",
    "\n",
    "def preprocess(line):\n",
    "    return replace_wordnum(replace_number(split_number(remove_url(remove_email(remove_emoji(lowercase(line)))))))"
   ]
  },
  {
   "cell_type": "code",
   "execution_count": 260,
   "metadata": {},
   "outputs": [],
   "source": [
    "#text = 'qwkjehl \") { []} w \\dfdd'\n",
    "#preprocess(mystring)\n",
    "#replace_wordnum(mystring)\n",
    "#replace_number(split_number(mystring))\n",
    "#replace_wordnum(replace_number(split_number(mystring)))"
   ]
  },
  {
   "cell_type": "code",
   "execution_count": 261,
   "metadata": {},
   "outputs": [
    {
     "data": {
      "text/html": [
       "<div>\n",
       "<style scoped>\n",
       "    .dataframe tbody tr th:only-of-type {\n",
       "        vertical-align: middle;\n",
       "    }\n",
       "\n",
       "    .dataframe tbody tr th {\n",
       "        vertical-align: top;\n",
       "    }\n",
       "\n",
       "    .dataframe thead th {\n",
       "        text-align: right;\n",
       "    }\n",
       "</style>\n",
       "<table border=\"1\" class=\"dataframe\">\n",
       "  <thead>\n",
       "    <tr style=\"text-align: right;\">\n",
       "      <th></th>\n",
       "      <th>sep_msg</th>\n",
       "      <th>clean_msg</th>\n",
       "    </tr>\n",
       "  </thead>\n",
       "  <tbody>\n",
       "    <tr>\n",
       "      <th>0</th>\n",
       "      <td>chất liệu: cotton, polyester</td>\n",
       "      <td>chất liệu: cotton, polyester</td>\n",
       "    </tr>\n",
       "    <tr>\n",
       "      <th>1</th>\n",
       "      <td>dạ sản phẩm này chỉ đi kèm NUM  chậu không có ...</td>\n",
       "      <td>dạ, sản phẩm này chỉ đi kèm NUM  chậu không có...</td>\n",
       "    </tr>\n",
       "    <tr>\n",
       "      <th>2</th>\n",
       "      <td>em biết là hàng k có sẵn rồi cơ nhưng mà shop ...</td>\n",
       "      <td>em biết là hàng không có sẵn rồi nhưng mà cửa ...</td>\n",
       "    </tr>\n",
       "    <tr>\n",
       "      <th>3</th>\n",
       "      <td>em NUM kg</td>\n",
       "      <td>em nặng NUM kg</td>\n",
       "    </tr>\n",
       "    <tr>\n",
       "      <th>4</th>\n",
       "      <td>bao lâu thì có hàng ạ.&lt;eos&gt;mình ở hn</td>\n",
       "      <td>bao lâu thì có hàng ạ?&lt;eos&gt;mình ở hà nội.</td>\n",
       "    </tr>\n",
       "  </tbody>\n",
       "</table>\n",
       "</div>"
      ],
      "text/plain": [
       "                                             sep_msg  \\\n",
       "0                       chất liệu: cotton, polyester   \n",
       "1  dạ sản phẩm này chỉ đi kèm NUM  chậu không có ...   \n",
       "2  em biết là hàng k có sẵn rồi cơ nhưng mà shop ...   \n",
       "3                                          em NUM kg   \n",
       "4               bao lâu thì có hàng ạ.<eos>mình ở hn   \n",
       "\n",
       "                                           clean_msg  \n",
       "0                       chất liệu: cotton, polyester  \n",
       "1  dạ, sản phẩm này chỉ đi kèm NUM  chậu không có...  \n",
       "2  em biết là hàng không có sẵn rồi nhưng mà cửa ...  \n",
       "3                                     em nặng NUM kg  \n",
       "4          bao lâu thì có hàng ạ?<eos>mình ở hà nội.  "
      ]
     },
     "execution_count": 261,
     "metadata": {},
     "output_type": "execute_result"
    }
   ],
   "source": [
    "#dftest = df.iloc[45:55]\n",
    "df['sep_msg'] = df['sep_msg'].apply(preprocess)\n",
    "df['clean_msg'] = df['clean_msg'].apply(preprocess)\n",
    "df.head()"
   ]
  },
  {
   "cell_type": "code",
   "execution_count": 262,
   "metadata": {},
   "outputs": [],
   "source": [
    "#len('nghiêng')"
   ]
  },
  {
   "cell_type": "code",
   "execution_count": 263,
   "metadata": {},
   "outputs": [],
   "source": [
    "\n",
    "alphabets= \"([A-Za-z])\"\n",
    "prefixes = \"(Mr|St|Mrs|Ms|Dr)[.]\"\n",
    "suffixes = \"(Inc|Ltd|Jr|Sr|Co)\"\n",
    "starters = \"(Mr|Mrs|Ms|Dr|He\\s|She\\s|It\\s|They\\s|Their\\s|Our\\s|We\\s|But\\s|However\\s|That\\s|This\\s|Wherever)\"\n",
    "acronyms = \"([A-Z][.][A-Z][.](?:[A-Z][.])?)\"\n",
    "websites = \"[.](com|net|org|io|gov)\"\n",
    "\n",
    "def split_into_sentences(text):\n",
    "    text = \" \" + text + \"  \"\n",
    "    text = text.replace(r'\\n',\". \")\n",
    "    text = re.sub(prefixes,\"\\\\1<prd>\",text)\n",
    "    text = re.sub(websites,\"<prd>\\\\1\",text)\n",
    "    if \"Ph.D\" in text: text = text.replace(\"Ph.D.\",\"Ph<prd>D<prd>\")\n",
    "    text = re.sub(\"\\s\" + alphabets + \"[.] \",\" \\\\1<prd> \",text)\n",
    "    text = re.sub(acronyms+\" \"+starters,\"\\\\1<eos> \\\\2\",text)\n",
    "    text = re.sub(alphabets + \"[.]\" + alphabets + \"[.]\" + alphabets + \"[.]\",\"\\\\1<prd>\\\\2<prd>\\\\3<prd>\",text)\n",
    "    text = re.sub(alphabets + \"[.]\" + alphabets + \"[.]\",\"\\\\1<prd>\\\\2<prd>\",text)\n",
    "    text = re.sub(\" \"+suffixes+\"[.] \"+starters,\" \\\\1<eos> \\\\2\",text)\n",
    "    text = re.sub(\" \"+suffixes+\"[.]\",\" \\\\1<prd>\",text)\n",
    "    text = re.sub(\" \" + alphabets + \"[.]\",\" \\\\1<prd>\",text)\n",
    "    if \"”\" in text: text = text.replace(\".”\",\"”.\")\n",
    "    if \"\\\"\" in text: text = text.replace(\"\\\\\",\"\")\n",
    "    if \"!\" in text: text = text.replace(\"!\\\"\",\"\\\"!\")\n",
    "    if \"?\" in text: text = text.replace(\"?\\\"\",\"\\\"?\")\n",
    "    if \"(\" in text: text = text.replace(\"(\",\"\")\n",
    "    if \")\" in text: text = text.replace(\")\",\"\")\n",
    "    if \"[\" in text: text = text.replace(\"[\",\"\")\n",
    "    if \"]\" in text: text = text.replace(\"]\",\"\")\n",
    "    text = text.replace(\".\",\".<eos>\")\n",
    "    text = text.replace(\"?\",\"?<eos>\")\n",
    "    text = text.replace(\"!\",\"!<eos>\")\n",
    "    text = text.replace(\"<prd>\",\".\")\n",
    "    sentences = text.split(\"<eos>\")\n",
    "    sentences = sentences[:-1]\n",
    "    sentences = [s.strip() for s in sentences]\n",
    "    return sentences"
   ]
  },
  {
   "cell_type": "code",
   "execution_count": 264,
   "metadata": {},
   "outputs": [
    {
     "name": "stdout",
     "output_type": "stream",
     "text": [
      "600\n"
     ]
    }
   ],
   "source": [
    "counter = 0\n",
    "with open(\"processed_vn_batch1.txt\", 'w') as f:\n",
    "    for y, row in df.iterrows():\n",
    "        orig = str(row.sep_msg).replace(r'\\n',\" \")\n",
    "        clean = str(row.clean_msg).replace(r'\\n',\" \")\n",
    "        #if clean == \"nan\":\n",
    "            #orig = \"\"\n",
    "        orig = orig.split(\"<eos>\")\n",
    "        clean = clean.split(\"<eos>\")\n",
    "        if not len(orig) == len(clean):\n",
    "            counter +=1\n",
    "            #print(orig)\n",
    "            #print(clean)\n",
    "            orig = split_into_sentences(row.sep_msg)\n",
    "            clean = split_into_sentences(row.clean_msg)\n",
    "        if not len(orig) == len(clean):\n",
    "            continue\n",
    "        for i in range(len(orig)):\n",
    "            src = \" \".join([str(x).strip() for x in nlp(orig[i].strip())])\n",
    "            #print(src)\n",
    "            trg = \" \".join([str(x).strip() for x in nlp(clean[i].strip())])\n",
    "            #print(clean)\n",
    "            if len(src) < 3:\n",
    "                continue\n",
    "            if len(trg) < 3:\n",
    "                continue\n",
    "            f.write(src)\n",
    "            f.write('\\t')\n",
    "            f.write(trg)\n",
    "            f.write('\\n')\n",
    "            \n",
    "print(counter)"
   ]
  },
  {
   "cell_type": "code",
   "execution_count": 265,
   "metadata": {},
   "outputs": [],
   "source": [
    "with open('processed_vn_batch1.txt', 'r') as f:\n",
    "    lines = [line for line in f]\n",
    "    n = len(lines)\n",
    "    train1 = lines[0:int(0.8*n)]\n",
    "    train = lines[0:int(0.8*len(train1))]\n",
    "    valid = lines[int(-0.2*len(train1)):]\n",
    "    test = lines[int(-0.2*n):]\n",
    "    \n",
    "    for line in train:\n",
    "        content = line.split('\\t')\n",
    "        src = content[0]\n",
    "        trg = content[1]\n",
    "        with open('src-train.txt', 'a') as src_file:\n",
    "            src_file.write(src)\n",
    "            src_file.write('\\n')\n",
    "        with open('tgt-train.txt', 'a') as trg_file:\n",
    "            trg_file.write(trg)\n",
    "            #trg_file.write('\\n')\n",
    "            \n",
    "    for line in test:\n",
    "        content = line.split('\\t')\n",
    "        src = content[0]\n",
    "        trg = content[1]\n",
    "        with open('src-test.txt', 'a') as src_file:\n",
    "            src_file.write(src)\n",
    "            src_file.write('\\n')\n",
    "        with open('tgt-test.txt', 'a') as trg_file:\n",
    "            trg_file.write(trg)\n",
    "            #trg_file.write('\\n')\n",
    "            \n",
    "    for line in valid:\n",
    "        content = line.split('\\t')\n",
    "        src = content[0]\n",
    "        trg = content[1]\n",
    "        with open('src-val.txt', 'a') as src_file:\n",
    "            src_file.write(src)\n",
    "            src_file.write('\\n')\n",
    "        with open('tgt-val.txt', 'a') as trg_file:\n",
    "            trg_file.write(trg)\n",
    "            #trg_file.write('\\n')"
   ]
  },
  {
   "cell_type": "code",
   "execution_count": null,
   "metadata": {},
   "outputs": [],
   "source": []
  }
 ],
 "metadata": {
  "kernelspec": {
   "display_name": "Python 3",
   "language": "python",
   "name": "python3"
  },
  "language_info": {
   "codemirror_mode": {
    "name": "ipython",
    "version": 3
   },
   "file_extension": ".py",
   "mimetype": "text/x-python",
   "name": "python",
   "nbconvert_exporter": "python",
   "pygments_lexer": "ipython3",
   "version": "3.8.3"
  }
 },
 "nbformat": 4,
 "nbformat_minor": 2
}
